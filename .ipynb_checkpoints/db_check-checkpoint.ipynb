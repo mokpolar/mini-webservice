{
 "cells": [
  {
   "cell_type": "code",
   "execution_count": 1,
   "metadata": {},
   "outputs": [],
   "source": [
    "import pymongo"
   ]
  },
  {
   "cell_type": "code",
   "execution_count": 2,
   "metadata": {},
   "outputs": [],
   "source": [
    "username = ''\n",
    "password = ''\n",
    "ip_address = 'localhost'\n",
    "connection = pymongo.MongoClient()"
   ]
  },
  {
   "cell_type": "code",
   "execution_count": 3,
   "metadata": {},
   "outputs": [],
   "source": [
    "connection = pymongo.MongoClient('mongodb://%s' % (ip_address))"
   ]
  },
  {
   "cell_type": "code",
   "execution_count": 4,
   "metadata": {},
   "outputs": [],
   "source": [
    "page_session_db = connection.page_session_db"
   ]
  },
  {
   "cell_type": "code",
   "execution_count": 7,
   "metadata": {},
   "outputs": [],
   "source": [
    "page_ab = page_session_db.page_ab"
   ]
  },
  {
   "cell_type": "code",
   "execution_count": 10,
   "metadata": {},
   "outputs": [
    {
     "name": "stdout",
     "output_type": "stream",
     "text": [
      "{'_id': ObjectId('5fef2def283f163fcf8909ae'), 'session_ip': '127.0.0.1', 'user_email': 'anonymous', 'page': 'page_a.html', 'access_time': '01/01/2021 23:13:03'}\n",
      "{'_id': ObjectId('5fef2df0283f163fcf8909b0'), 'session_ip': '127.0.0.1', 'user_email': 'anonymous', 'page': 'page_b.html', 'access_time': '01/01/2021 23:13:04'}\n",
      "{'_id': ObjectId('5fef2df2283f163fcf8909b2'), 'session_ip': '127.0.0.1', 'user_email': 'anonymous', 'page': 'page_a.html', 'access_time': '01/01/2021 23:13:06'}\n",
      "{'_id': ObjectId('5fef2df2283f163fcf8909b4'), 'session_ip': '127.0.0.1', 'user_email': 'anonymous', 'page': 'page_b.html', 'access_time': '01/01/2021 23:13:06'}\n",
      "{'_id': ObjectId('5fef2fd6283f163fcf8909b6'), 'session_ip': '127.0.0.1', 'user_email': 'anonymous', 'page': 'page_a.html', 'access_time': '01/01/2021 23:21:10'}\n",
      "{'_id': ObjectId('5fef2fd6283f163fcf8909b8'), 'session_ip': '127.0.0.1', 'user_email': 'anonymous', 'page': 'page_b.html', 'access_time': '01/01/2021 23:21:10'}\n",
      "{'_id': ObjectId('5fef2fd7283f163fcf8909ba'), 'session_ip': '127.0.0.1', 'user_email': 'anonymous', 'page': 'page_a.html', 'access_time': '01/01/2021 23:21:11'}\n",
      "{'_id': ObjectId('5fef2fd7283f163fcf8909bc'), 'session_ip': '127.0.0.1', 'user_email': 'anonymous', 'page': 'page_b.html', 'access_time': '01/01/2021 23:21:11'}\n",
      "{'_id': ObjectId('5fef305b283f163fcf8909be'), 'session_ip': '127.0.0.1', 'user_email': 'anonymous', 'page': 'page_a.html', 'access_time': '01/01/2021 23:23:23'}\n",
      "{'_id': ObjectId('5fef305b283f163fcf8909c0'), 'session_ip': '127.0.0.1', 'user_email': 'anonymous', 'page': 'page_b.html', 'access_time': '01/01/2021 23:23:23'}\n",
      "{'_id': ObjectId('5fef305b283f163fcf8909c2'), 'session_ip': '127.0.0.1', 'user_email': 'anonymous', 'page': 'page_a.html', 'access_time': '01/01/2021 23:23:23'}\n",
      "{'_id': ObjectId('5fef305b283f163fcf8909c4'), 'session_ip': '127.0.0.1', 'user_email': 'anonymous', 'page': 'page_b.html', 'access_time': '01/01/2021 23:23:23'}\n",
      "{'_id': ObjectId('5fef305c283f163fcf8909c6'), 'session_ip': '127.0.0.1', 'user_email': 'anonymous', 'page': 'page_a.html', 'access_time': '01/01/2021 23:23:24'}\n",
      "{'_id': ObjectId('5fef305c283f163fcf8909c8'), 'session_ip': '127.0.0.1', 'user_email': 'anonymous', 'page': 'page_b.html', 'access_time': '01/01/2021 23:23:24'}\n",
      "{'_id': ObjectId('5fef305c283f163fcf8909ca'), 'session_ip': '127.0.0.1', 'user_email': 'anonymous', 'page': 'page_a.html', 'access_time': '01/01/2021 23:23:24'}\n",
      "{'_id': ObjectId('5fef305d283f163fcf8909cc'), 'session_ip': '127.0.0.1', 'user_email': 'anonymous', 'page': 'page_b.html', 'access_time': '01/01/2021 23:23:25'}\n",
      "{'_id': ObjectId('5ff16d63803df5c876c73e6c'), 'session_ip': '127.0.0.1', 'user_email': 'anonymous', 'page': 'page_a.html', 'access_time': '03/01/2021 16:08:19'}\n",
      "{'_id': ObjectId('5ff16d64803df5c876c73e6e'), 'session_ip': '127.0.0.1', 'user_email': 'anonymous', 'page': 'page_b.html', 'access_time': '03/01/2021 16:08:20'}\n",
      "{'_id': ObjectId('5ff16dc8eda0661e3c8583a0'), 'session_ip': '127.0.0.1', 'user_email': 'anonymous', 'page': 'page_a.html', 'access_time': '03/01/2021 16:10:00'}\n",
      "{'_id': ObjectId('5ff1700ee047935434896a6c'), 'session_ip': '127.0.0.1', 'user_email': 'anonymous', 'page': 'page_a.html', 'access_time': '03/01/2021 16:19:42'}\n",
      "{'_id': ObjectId('5ff1701fe047935434896a6e'), 'session_ip': '127.0.0.1', 'user_email': 'anonymous', 'page': 'page_a.html', 'access_time': '03/01/2021 16:19:59'}\n",
      "{'_id': ObjectId('5ff17020e047935434896a70'), 'session_ip': '127.0.0.1', 'user_email': 'anonymous', 'page': 'page_b.html', 'access_time': '03/01/2021 16:20:00'}\n",
      "{'_id': ObjectId('5ff17028e047935434896a72'), 'session_ip': '127.0.0.1', 'user_email': 'anonymous', 'page': 'page_b.html', 'access_time': '03/01/2021 16:20:08'}\n",
      "{'_id': ObjectId('5ff17029e047935434896a74'), 'session_ip': '127.0.0.1', 'user_email': 'anonymous', 'page': 'page_a.html', 'access_time': '03/01/2021 16:20:09'}\n",
      "{'_id': ObjectId('5ff17029e047935434896a76'), 'session_ip': '127.0.0.1', 'user_email': 'anonymous', 'page': 'page_b.html', 'access_time': '03/01/2021 16:20:09'}\n",
      "{'_id': ObjectId('5ff1704e9d7d5c6b83a89d38'), 'session_ip': '127.0.0.1', 'user_email': 'anonymous', 'page': 'page_a.html', 'access_time': '03/01/2021 16:20:46'}\n",
      "{'_id': ObjectId('5ff1704f9d7d5c6b83a89d3a'), 'session_ip': '127.0.0.1', 'user_email': 'anonymous', 'page': 'page_b.html', 'access_time': '03/01/2021 16:20:47'}\n",
      "{'_id': ObjectId('5ff170655036511648ea6875'), 'session_ip': '127.0.0.1', 'user_email': 'anonymous', 'page': 'page_b.html', 'access_time': '03/01/2021 16:21:09'}\n",
      "{'_id': ObjectId('5ff1708a1711e24cfeb39ce0'), 'session_ip': '127.0.0.1', 'user_email': 'anonymous', 'page': 'page_a.html', 'access_time': '03/01/2021 16:21:46'}\n",
      "{'_id': ObjectId('5ff1708d1711e24cfeb39ce2'), 'session_ip': '127.0.0.1', 'user_email': 'anonymous', 'page': 'page_b.html', 'access_time': '03/01/2021 16:21:49'}\n",
      "{'_id': ObjectId('5ff1717c8b21df0ff661cabf'), 'session_ip': '127.0.0.1', 'user_email': 'anonymous', 'page': 'page_a.html', 'access_time': '03/01/2021 16:25:48'}\n"
     ]
    }
   ],
   "source": [
    "page_logs = page_ab.find()\n",
    "\n",
    "for log in page_logs:\n",
    "    print(log)"
   ]
  },
  {
   "cell_type": "code",
   "execution_count": 26,
   "metadata": {},
   "outputs": [
    {
     "data": {
      "text/plain": [
       "{'ismaster': True,\n",
       " 'topologyVersion': {'processId': ObjectId('5fee833bacd8100224260546'),\n",
       "  'counter': 0},\n",
       " 'maxBsonObjectSize': 16777216,\n",
       " 'maxMessageSizeBytes': 48000000,\n",
       " 'maxWriteBatchSize': 100000,\n",
       " 'localTime': datetime.datetime(2021, 1, 1, 14, 27, 57, 998000),\n",
       " 'logicalSessionTimeoutMinutes': 30,\n",
       " 'connectionId': 86,\n",
       " 'minWireVersion': 0,\n",
       " 'maxWireVersion': 9,\n",
       " 'readOnly': False,\n",
       " 'ok': 1.0}"
      ]
     },
     "execution_count": 26,
     "metadata": {},
     "output_type": "execute_result"
    }
   ],
   "source": [
    "connection.admin.command('ismaster')"
   ]
  },
  {
   "cell_type": "code",
   "execution_count": 21,
   "metadata": {
    "scrolled": true
   },
   "outputs": [
    {
     "data": {
      "text/plain": [
       "{'version': '4.4.1',\n",
       " 'gitVersion': 'ad91a93a5a31e175f5cbf8c69561e788bbc55ce1',\n",
       " 'modules': [],\n",
       " 'allocator': 'system',\n",
       " 'javascriptEngine': 'mozjs',\n",
       " 'sysInfo': 'deprecated',\n",
       " 'versionArray': [4, 4, 1, 0],\n",
       " 'openssl': {'running': 'Apple Secure Transport'},\n",
       " 'buildEnvironment': {'distmod': '',\n",
       "  'distarch': 'x86_64',\n",
       "  'cc': '/Applications/Xcode10.2.0.app/Contents/Developer/Toolchains/XcodeDefault.xctoolchain/usr/bin/clang: Apple LLVM version 10.0.1 (clang-1001.0.46.3)',\n",
       "  'ccflags': '-isysroot /Applications/Xcode10.2.0.app/Contents/Developer/Platforms/MacOSX.platform/Developer/SDKs/MacOSX10.14.sdk -mmacosx-version-min=10.13 -target darwin17.0.0 -arch x86_64 -fno-omit-frame-pointer -fno-strict-aliasing -fasynchronous-unwind-tables -ggdb -pthread -Wall -Wsign-compare -Wno-unknown-pragmas -Winvalid-pch -Werror -O2 -Wno-unused-local-typedefs -Wno-unused-function -Wno-unused-private-field -Wno-deprecated-declarations -Wno-tautological-constant-out-of-range-compare -Wno-tautological-constant-compare -Wno-tautological-unsigned-zero-compare -Wno-tautological-unsigned-enum-zero-compare -Wno-unused-const-variable -Wno-missing-braces -Wno-inconsistent-missing-override -Wno-potentially-evaluated-expression -Wno-unused-lambda-capture -Wno-exceptions -Wunguarded-availability -fstack-protector-strong -fno-builtin-memcmp',\n",
       "  'cxx': '/Applications/Xcode10.2.0.app/Contents/Developer/Toolchains/XcodeDefault.xctoolchain/usr/bin/clang++: Apple LLVM version 10.0.1 (clang-1001.0.46.3)',\n",
       "  'cxxflags': '-Woverloaded-virtual -Werror=unused-result -Wpessimizing-move -Wredundant-move -Wno-undefined-var-template -Wno-instantiation-after-specialization -fsized-deallocation -Wunused-exception-parameter -stdlib=libc++ -std=c++17',\n",
       "  'linkflags': '-Wl,-syslibroot,/Applications/Xcode10.2.0.app/Contents/Developer/Platforms/MacOSX.platform/Developer/SDKs/MacOSX10.14.sdk -mmacosx-version-min=10.13 -target darwin17.0.0 -arch x86_64 -Wl,-bind_at_load -Wl,-fatal_warnings -fstack-protector-strong -stdlib=libc++ -Wl,-rpath,@loader_path/../lib -Wl,-rpath,@loader_path/../Frameworks',\n",
       "  'target_arch': 'x86_64',\n",
       "  'target_os': 'macOS',\n",
       "  'cppdefines': 'SAFEINT_USE_INTRINSICS 0 PCRE_STATIC NDEBUG BOOST_THREAD_VERSION 5 BOOST_THREAD_USES_DATETIME BOOST_SYSTEM_NO_DEPRECATED BOOST_MATH_NO_LONG_DOUBLE_MATH_FUNCTIONS BOOST_ENABLE_ASSERT_DEBUG_HANDLER BOOST_LOG_NO_SHORTHAND_NAMES BOOST_LOG_USE_NATIVE_SYSLOG BOOST_LOG_WITHOUT_THREAD_ATTR ABSL_FORCE_ALIGNED_ACCESS'},\n",
       " 'bits': 64,\n",
       " 'debug': False,\n",
       " 'maxBsonObjectSize': 16777216,\n",
       " 'storageEngines': ['biggie', 'devnull', 'ephemeralForTest', 'wiredTiger'],\n",
       " 'ok': 1.0}"
      ]
     },
     "execution_count": 21,
     "metadata": {},
     "output_type": "execute_result"
    }
   ],
   "source": [
    "connection.server_info()"
   ]
  },
  {
   "cell_type": "code",
   "execution_count": null,
   "metadata": {},
   "outputs": [],
   "source": []
  }
 ],
 "metadata": {
  "kernelspec": {
   "display_name": "Web Service",
   "language": "python",
   "name": "web"
  },
  "language_info": {
   "codemirror_mode": {
    "name": "ipython",
    "version": 3
   },
   "file_extension": ".py",
   "mimetype": "text/x-python",
   "name": "python",
   "nbconvert_exporter": "python",
   "pygments_lexer": "ipython3",
   "version": "3.7.9"
  }
 },
 "nbformat": 4,
 "nbformat_minor": 4
}
